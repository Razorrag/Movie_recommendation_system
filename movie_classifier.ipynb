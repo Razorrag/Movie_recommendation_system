{
 "cells": [
  {
   "cell_type": "code",
   "execution_count": 3,
   "id": "75ce460b-1528-4cc0-8476-2225bb81ab6b",
   "metadata": {},
   "outputs": [],
   "source": [
    "import numpy as np\n",
    "import pandas as pd\n",
    "import ast\n",
    "import os\n",
    "\n",
    "# Load the datasets\n",
    "movies = pd.read_csv('tmdb_5000_movies.csv')\n",
    "credits = pd.read_csv('tmdb_5000_credits.csv')\n",
    "\n",
    "# Merge the datasets on the 'title' column\n",
    "movies = movies.merge(credits, on='title')\n"
   ]
  },
  {
   "cell_type": "code",
   "execution_count": 5,
   "id": "3e545cb7-b43c-4761-8468-95e43d802e1e",
   "metadata": {},
   "outputs": [
    {
     "name": "stderr",
     "output_type": "stream",
     "text": [
      "C:\\Users\\15anu\\AppData\\Local\\Temp\\ipykernel_10040\\3691980181.py:43: SettingWithCopyWarning: \n",
      "A value is trying to be set on a copy of a slice from a DataFrame.\n",
      "Try using .loc[row_indexer,col_indexer] = value instead\n",
      "\n",
      "See the caveats in the documentation: https://pandas.pydata.org/pandas-docs/stable/user_guide/indexing.html#returning-a-view-versus-a-copy\n",
      "  final_df['tags'] = movies['tags'].apply(lambda x: \" \".join(x))\n"
     ]
    }
   ],
   "source": [
    "# Keep only the necessary columns\n",
    "movies = movies[['movie_id', 'title', 'overview', 'genres', 'keywords', 'cast', 'crew']]\n",
    "\n",
    "# Drop rows with missing values\n",
    "movies.dropna(inplace=True)\n",
    "\n",
    "# Convert JSON columns to a list of names\n",
    "def convert(text):\n",
    "    return [i['name'] for i in ast.literal_eval(text)]\n",
    "\n",
    "movies['genres'] = movies['genres'].apply(convert)\n",
    "movies['keywords'] = movies['keywords'].apply(convert)\n",
    "\n",
    "# Convert cast and crew columns to a list of names, limiting cast to top 3 actors\n",
    "def convert_cast(text):\n",
    "    return [i['name'] for i in ast.literal_eval(text)[:3]]\n",
    "\n",
    "movies['cast'] = movies['cast'].apply(convert_cast)\n",
    "\n",
    "# Extract the director's name from the crew column\n",
    "def fetch_director(text):\n",
    "    return [i['name'] for i in ast.literal_eval(text) if i['job'] == 'Director']\n",
    "\n",
    "movies['crew'] = movies['crew'].apply(fetch_director)\n",
    "\n",
    "# Remove spaces in names for consistency\n",
    "def collapse(L):\n",
    "    return [i.replace(\" \", \"\") for i in L]\n",
    "\n",
    "movies['genres'] = movies['genres'].apply(collapse)\n",
    "movies['keywords'] = movies['keywords'].apply(collapse)\n",
    "movies['cast'] = movies['cast'].apply(collapse)\n",
    "movies['crew'] = movies['crew'].apply(collapse)\n",
    "\n",
    "# Convert overview to a list of words\n",
    "movies['overview'] = movies['overview'].apply(lambda x: x.split())\n",
    "\n",
    "# Create a 'tags' column by combining all relevant columns\n",
    "movies['tags'] = movies['overview'] + movies['genres'] + movies['keywords'] + movies['cast'] + movies['crew']\n",
    "\n",
    "# Drop unnecessary columns and join the 'tags' column into a single string\n",
    "final_df = movies[['movie_id', 'title']]\n",
    "final_df['tags'] = movies['tags'].apply(lambda x: \" \".join(x))\n"
   ]
  },
  {
   "cell_type": "code",
   "execution_count": 7,
   "id": "80002476-a064-458a-a80e-52527534b2cf",
   "metadata": {},
   "outputs": [],
   "source": [
    "from sklearn.feature_extraction.text import CountVectorizer\n",
    "from sklearn.metrics.pairwise import cosine_similarity\n",
    "\n",
    "# Convert the tags into a matrix of token counts\n",
    "cv = CountVectorizer(max_features=5000, stop_words='english')\n",
    "vector = cv.fit_transform(final_df['tags']).toarray()\n",
    "\n",
    "# Compute the cosine similarity matrix\n",
    "similarity = cosine_similarity(vector)\n"
   ]
  },
  {
   "cell_type": "code",
   "execution_count": 9,
   "id": "f524765a-48d0-447a-8dff-514579493a6b",
   "metadata": {},
   "outputs": [
    {
     "name": "stdout",
     "output_type": "stream",
     "text": [
      "['The Dark Knight', 'The Dark Knight Rises', 'Batman', 'Batman & Robin', 'Batman']\n"
     ]
    }
   ],
   "source": [
    "def recommend(movie):\n",
    "    try:\n",
    "        index = final_df[final_df['title'] == movie].index[0]\n",
    "        distances = sorted(list(enumerate(similarity[index])), reverse=True, key=lambda x: x[1])\n",
    "        recommended_movies = [final_df.iloc[i[0]].title for i in distances[1:6]]\n",
    "        return recommended_movies\n",
    "    except IndexError:\n",
    "        return \"Movie not found!\"\n",
    "\n",
    "# Test the recommendation system\n",
    "recommendations = recommend('Batman Begins')\n",
    "print(recommendations)\n"
   ]
  },
  {
   "cell_type": "code",
   "execution_count": 11,
   "id": "4c7f5fd8-6c39-4ace-bf57-b6e5c9c32d03",
   "metadata": {},
   "outputs": [],
   "source": [
    "import pickle\n",
    "\n",
    "# Save the final dataframe and similarity matrix for later use\n",
    "pickle.dump(final_df, open('movie_dict.pkl', 'wb'))\n",
    "pickle.dump(similarity, open('similarity.pkl', 'wb'))\n"
   ]
  },
  {
   "cell_type": "code",
   "execution_count": null,
   "id": "6d52522d-d23f-4d37-8c74-24574d03590a",
   "metadata": {},
   "outputs": [],
   "source": []
  }
 ],
 "metadata": {
  "kernelspec": {
   "display_name": "Python 3 (ipykernel)",
   "language": "python",
   "name": "python3"
  },
  "language_info": {
   "codemirror_mode": {
    "name": "ipython",
    "version": 3
   },
   "file_extension": ".py",
   "mimetype": "text/x-python",
   "name": "python",
   "nbconvert_exporter": "python",
   "pygments_lexer": "ipython3",
   "version": "3.12.4"
  }
 },
 "nbformat": 4,
 "nbformat_minor": 5
}
